{
 "cells": [
  {
   "cell_type": "markdown",
   "metadata": {},
   "source": [
    "Wikidata and Bandford low analysis\n"
   ]
  },
  {
   "cell_type": "markdown",
   "metadata": {},
   "source": [
    "https://linkedwiki.com/query/wikidata_Country_populations_together_with_total_city_populations?lang=EN\n",
    "\n",
    "and Benford law :\n",
    "https://towardsdatascience.com/frawd-detection-using-benfords-law-python-code-9db8db474cf8\n"
   ]
  },
  {
   "cell_type": "markdown",
   "metadata": {},
   "source": [
    "## Libraries"
   ]
  },
  {
   "cell_type": "code",
   "execution_count": 1,
   "metadata": {},
   "outputs": [],
   "source": [
    "#import libraries\n",
    "import pandas as pd\n",
    "import numpy as np\n",
    "import math\n",
    "\n",
    "\n",
    "import sys\n",
    "import math\n",
    "import matplotlib.pyplot as plt\n",
    "%matplotlib inline\n"
   ]
  },
  {
   "cell_type": "markdown",
   "metadata": {},
   "source": [
    "## Data aquisition"
   ]
  },
  {
   "cell_type": "code",
   "execution_count": 2,
   "metadata": {},
   "outputs": [],
   "source": [
    "\n",
    "\n",
    "from SPARQLWrapper import SPARQLWrapper, JSON\n",
    "from SPARQLWrapper import SPARQLWrapper2\n",
    "\n",
    "sparql = SPARQLWrapper(\"https://query.wikidata.org/sparql\")\n",
    "\n",
    "strSparqlSelect = (\"\"\"\n",
    "PREFIX bd: <http://www.bigdata.com/rdf#>\n",
    "PREFIX wd: <http://www.wikidata.org/entity/>\n",
    "PREFIX wdt: <http://www.wikidata.org/prop/direct/>\n",
    "PREFIX wikibase: <http://wikiba.se/ontology#>\n",
    "\n",
    "SELECT ?country ?countryLabel ?continentLabel ?population ?hdindex ?totalCityPopulation (?population / ?totalCityPopulation AS ?ratio) {\n",
    "  ?country wdt:P1082 ?population .\n",
    "  ?country wdt:P30  ?continent .\n",
    "  ?continent wdt:P31 wd:Q5107 .\n",
    "  ?country   wdt:P1081 ?hdindex\n",
    "  \n",
    "   FILTER NOT EXISTS {\n",
    "    ?country wd:P1082/wdt:P585 ?hdi_date_ .\n",
    "    FILTER (?hdi_date_ > ?hdi_date)\n",
    "                     }\n",
    "   FILTER NOT EXISTS {\n",
    "    ?country wdt:P1081/wdt:P585 ?hdi_date_ .\n",
    "    FILTER (?hdi_date_ > ?hdi_date)\n",
    "                      }\n",
    " \n",
    "  \n",
    "  \n",
    "  SERVICE wikibase:label { bd:serviceParam wikibase:language \"en\" }\n",
    "  {\n",
    "    SELECT ?country (SUM(?cityPopulation) AS ?totalCityPopulation) WHERE {\n",
    "      ?city wdt:P31 wd:Q515 .\n",
    "      ?city wdt:P17 ?country .\n",
    "      ?city wdt:P1082 ?cityPopulation .\n",
    "      \n",
    "    } GROUP BY ?country\n",
    "  }\n",
    "} ORDER BY ?ratio\"\"\")\n",
    "\n",
    "sparql.setQuery(strSparqlSelect)\n",
    "try:\n",
    "\n",
    "  sparql.setReturnFormat(JSON)\n",
    "  results = sparql.query().convert()\n",
    "  # results = sparql.queryAndConvert()\n",
    "  \"\"\"\n",
    "  # for testing\n",
    "  for result in results[\"results\"][\"bindings\"]:\n",
    "      print(result)\n",
    "  \"\"\"\n",
    "\n",
    "except Exception as e:\n",
    "  print(e)"
   ]
  },
  {
   "cell_type": "markdown",
   "metadata": {},
   "source": []
  },
  {
   "cell_type": "code",
   "execution_count": 3,
   "metadata": {},
   "outputs": [
    {
     "data": {
      "text/plain": [
       "{'country': {'type': 'uri', 'value': 'http://www.wikidata.org/entity/Q977'},\n",
       " 'hdindex': {'datatype': 'http://www.w3.org/2001/XMLSchema#decimal',\n",
       "  'type': 'literal',\n",
       "  'value': '0.509'},\n",
       " 'population': {'datatype': 'http://www.w3.org/2001/XMLSchema#decimal',\n",
       "  'type': 'literal',\n",
       "  'value': '956985'},\n",
       " 'totalCityPopulation': {'datatype': 'http://www.w3.org/2001/XMLSchema#decimal',\n",
       "  'type': 'literal',\n",
       "  'value': '2863922'},\n",
       " 'countryLabel': {'xml:lang': 'en', 'type': 'literal', 'value': 'Djibouti'},\n",
       " 'continentLabel': {'xml:lang': 'en', 'type': 'literal', 'value': 'Africa'},\n",
       " 'ratio': {'datatype': 'http://www.w3.org/2001/XMLSchema#decimal',\n",
       "  'type': 'literal',\n",
       "  'value': '0.33415190776843782757'}}"
      ]
     },
     "execution_count": 3,
     "metadata": {},
     "output_type": "execute_result"
    }
   ],
   "source": [
    "\n",
    "results[\"results\"][\"bindings\"][0]"
   ]
  },
  {
   "cell_type": "code",
   "execution_count": 4,
   "metadata": {},
   "outputs": [
    {
     "data": {
      "text/plain": [
       "{'country': 'Djibouti',\n",
       " 'continent': 'Africa',\n",
       " 'totalCityPopulation': 2863922,\n",
       " 'population': 956985,\n",
       " 'ratio': 0.3}"
      ]
     },
     "execution_count": 4,
     "metadata": {},
     "output_type": "execute_result"
    }
   ],
   "source": [
    "try:\n",
    "    rawdata = [{\"country\" : x[\"countryLabel\"][\"value\"],\"continent\" : x[\"continentLabel\"][\"value\"],\"totalCityPopulation\" : round(float(x[\"totalCityPopulation\"][\"value\"])), \"population\" : int(x[\"population\"][\"value\"]), \"ratio\" : round(float(x[\"ratio\"][\"value\"]),1)} for x in results[\"results\"][\"bindings\"]]\n",
    "\n",
    "except Exception as e:\n",
    "  print(e)\n",
    "\n",
    "rawdata[0]"
   ]
  },
  {
   "cell_type": "code",
   "execution_count": 5,
   "metadata": {},
   "outputs": [
    {
     "data": {
      "image/png": "[encoded data removed]",
      "text/plain": [
       "<Figure size 432x288 with 1 Axes>"
      ]
     },
     "metadata": {
      "needs_background": "light"
     },
     "output_type": "display_data"
    }
   ],
   "source": [
    "pd.DataFrame(rawdata).set_index(\"country\").head(10).plot.barh().invert_yaxis()\n"
   ]
  },
  {
   "cell_type": "markdown",
   "metadata": {},
   "source": [
    "## A look at the data"
   ]
  },
  {
   "cell_type": "code",
   "execution_count": 6,
   "metadata": {},
   "outputs": [
    {
     "data": {
      "text/html": [
       "<div>\n",
       "<style scoped>\n",
       "    .dataframe tbody tr th:only-of-type {\n",
       "        vertical-align: middle;\n",
       "    }\n",
       "\n",
       "    .dataframe tbody tr th {\n",
       "        vertical-align: top;\n",
       "    }\n",
       "\n",
       "    .dataframe thead th {\n",
       "        text-align: right;\n",
       "    }\n",
       "</style>\n",
       "<table border=\"1\" class=\"dataframe\">\n",
       "  <thead>\n",
       "    <tr style=\"text-align: right;\">\n",
       "      <th></th>\n",
       "      <th>country</th>\n",
       "      <th>continent</th>\n",
       "      <th>totalCityPopulation</th>\n",
       "      <th>population</th>\n",
       "      <th>ratio</th>\n",
       "    </tr>\n",
       "  </thead>\n",
       "  <tbody>\n",
       "    <tr>\n",
       "      <th>0</th>\n",
       "      <td>Djibouti</td>\n",
       "      <td>Africa</td>\n",
       "      <td>2863922</td>\n",
       "      <td>956985</td>\n",
       "      <td>0.3</td>\n",
       "    </tr>\n",
       "    <tr>\n",
       "      <th>1</th>\n",
       "      <td>São Tomé and Príncipe</td>\n",
       "      <td>Africa</td>\n",
       "      <td>391964</td>\n",
       "      <td>204327</td>\n",
       "      <td>0.5</td>\n",
       "    </tr>\n",
       "    <tr>\n",
       "      <th>2</th>\n",
       "      <td>New Zealand</td>\n",
       "      <td>Insular Oceania</td>\n",
       "      <td>7145560</td>\n",
       "      <td>5118700</td>\n",
       "      <td>0.7</td>\n",
       "    </tr>\n",
       "    <tr>\n",
       "      <th>3</th>\n",
       "      <td>United Arab Emirates</td>\n",
       "      <td>Asia</td>\n",
       "      <td>12009189</td>\n",
       "      <td>9890400</td>\n",
       "      <td>0.8</td>\n",
       "    </tr>\n",
       "    <tr>\n",
       "      <th>4</th>\n",
       "      <td>North Macedonia</td>\n",
       "      <td>Europe</td>\n",
       "      <td>2051544</td>\n",
       "      <td>1836713</td>\n",
       "      <td>0.9</td>\n",
       "    </tr>\n",
       "  </tbody>\n",
       "</table>\n",
       "</div>"
      ],
      "text/plain": [
       "                 country        continent  totalCityPopulation  population  \\\n",
       "0               Djibouti           Africa              2863922      956985   \n",
       "1  São Tomé and Príncipe           Africa               391964      204327   \n",
       "2            New Zealand  Insular Oceania              7145560     5118700   \n",
       "3   United Arab Emirates             Asia             12009189     9890400   \n",
       "4        North Macedonia           Europe              2051544     1836713   \n",
       "\n",
       "   ratio  \n",
       "0    0.3  \n",
       "1    0.5  \n",
       "2    0.7  \n",
       "3    0.8  \n",
       "4    0.9  "
      ]
     },
     "execution_count": 6,
     "metadata": {},
     "output_type": "execute_result"
    }
   ],
   "source": [
    "maindata = pd.DataFrame(rawdata)\n",
    "maindata.head()"
   ]
  },
  {
   "cell_type": "code",
   "execution_count": 8,
   "metadata": {},
   "outputs": [
    {
     "data": {
      "text/plain": [
       "(198, 5)"
      ]
     },
     "execution_count": 8,
     "metadata": {},
     "output_type": "execute_result"
    }
   ],
   "source": [
    "# Provide the number of rows and columns in this dataset.\n",
    "num_rows = maindata.shape[0] #Provide the number of rows in the dataset\n",
    "num_cols = maindata.shape[1] #Provide the number of columns in the dataset\n",
    "(num_rows,num_cols)"
   ]
  },
  {
   "cell_type": "code",
   "execution_count": 9,
   "metadata": {},
   "outputs": [
    {
     "data": {
      "text/plain": [
       "{'continent', 'country', 'population', 'ratio', 'totalCityPopulation'}"
      ]
     },
     "execution_count": 9,
     "metadata": {},
     "output_type": "execute_result"
    }
   ],
   "source": [
    "# A set of column names that have no missing values.\n",
    "no_nulls = set(maindata.columns[maindata.isnull().mean()==0])#Provide a set of columns with 0 missing values.\n",
    "no_nulls"
   ]
  },
  {
   "cell_type": "code",
   "execution_count": null,
   "metadata": {},
   "outputs": [],
   "source": [
    "# "
   ]
  },
  {
   "cell_type": "code",
   "execution_count": 15,
   "metadata": {},
   "outputs": [
    {
     "name": "stdout",
     "output_type": "stream",
     "text": [
      "<class 'pandas.core.frame.DataFrame'>\n",
      "RangeIndex: 198 entries, 0 to 197\n",
      "Data columns (total 5 columns):\n",
      " #   Column               Non-Null Count  Dtype  \n",
      "---  ------               --------------  -----  \n",
      " 0   country              198 non-null    object \n",
      " 1   continent            198 non-null    object \n",
      " 2   totalCityPopulation  198 non-null    int64  \n",
      " 3   population           198 non-null    int64  \n",
      " 4   ratio                198 non-null    float64\n",
      "dtypes: float64(1), int64(2), object(2)\n",
      "memory usage: 7.9+ KB\n"
     ]
    }
   ],
   "source": [
    "maindata.info()"
   ]
  },
  {
   "cell_type": "code",
   "execution_count": null,
   "metadata": {},
   "outputs": [],
   "source": []
  },
  {
   "cell_type": "markdown",
   "metadata": {},
   "source": [
    "Bendfor law processing\n",
    "using functions from https://towardsdatascience.com/frawd-detection-using-benfords-law-python-code-9db8db474cf8\n"
   ]
  },
  {
   "cell_type": "code",
   "execution_count": 7,
   "metadata": {},
   "outputs": [],
   "source": [
    "# according to \n",
    "\n",
    "def count_first_digit(data_str):\n",
    "    mask=df[data_str]>1.\n",
    "    data=list(df[mask][data_str])\n",
    "    for i in range(len(data)):\n",
    "        while data[i]>10:\n",
    "            data[i]=data[i]/10\n",
    "    first_digits=[int(x) for x in sorted(data)]\n",
    "    unique=(set(first_digits))#a list with unique values of     first_digit list\n",
    "    data_count=[]\n",
    "    for i in unique:\n",
    "        count=first_digits.count(i)\n",
    "        data_count.append(count)\n",
    "    total_count=sum(data_count)\n",
    "    data_percentage=[(i/total_count)*100 for i in data_count]\n",
    "    return  total_count,data_count, data_percentage\n",
    "# Benford's Law percentages for leading digits 1-9\n",
    "BENFORD = [30.1, 17.6, 12.5, 9.7, 7.9, 6.7, 5.8, 5.1, 4.6]"
   ]
  },
  {
   "cell_type": "code",
   "execution_count": 1,
   "metadata": {},
   "outputs": [
    {
     "ename": "NameError",
     "evalue": "name 'data' is not defined",
     "output_type": "error",
     "traceback": [
      "\u001b[1;31m---------------------------------------------------------------------------\u001b[0m",
      "\u001b[1;31mNameError\u001b[0m                                 Traceback (most recent call last)",
      "\u001b[1;32m<ipython-input-1-920d32f76e0b>\u001b[0m in \u001b[0;36m<module>\u001b[1;34m\u001b[0m\n\u001b[0;32m     16\u001b[0m \u001b[1;33m\u001b[0m\u001b[0m\n\u001b[0;32m     17\u001b[0m \u001b[1;31m#Data exploratory\u001b[0m\u001b[1;33m\u001b[0m\u001b[1;33m\u001b[0m\u001b[1;33m\u001b[0m\u001b[0m\n\u001b[1;32m---> 18\u001b[1;33m \u001b[0mdata\u001b[0m\u001b[1;33m.\u001b[0m\u001b[0mdescribe\u001b[0m\u001b[1;33m(\u001b[0m\u001b[1;33m)\u001b[0m\u001b[1;33m\u001b[0m\u001b[1;33m\u001b[0m\u001b[0m\n\u001b[0m\u001b[0;32m     19\u001b[0m \u001b[0mdf\u001b[0m\u001b[1;33m.\u001b[0m\u001b[0minfo\u001b[0m\u001b[1;33m(\u001b[0m\u001b[1;33m)\u001b[0m\u001b[1;33m\u001b[0m\u001b[1;33m\u001b[0m\u001b[0m\n\u001b[0;32m     20\u001b[0m \u001b[0mdf\u001b[0m\u001b[1;33m.\u001b[0m\u001b[0mdescribe\u001b[0m\u001b[1;33m(\u001b[0m\u001b[1;33m)\u001b[0m\u001b[1;33m.\u001b[0m\u001b[0mtranspose\u001b[0m\u001b[1;33m\u001b[0m\u001b[1;33m\u001b[0m\u001b[0m\n",
      "\u001b[1;31mNameError\u001b[0m: name 'data' is not defined"
     ]
    }
   ],
   "source": [
    "# code from https://github.com/eleprocha/Benford-s-Law_python_code/blob/master/code\n",
    "# https://en.wikipedia.org/wiki/Pearson%27s_chi-squared_test\n",
    "#import libraries\n",
    "import numpy as np\n",
    "import pandas as pd\n",
    "import sys\n",
    "import math\n",
    "from collections import defaultdict\n",
    "import matplotlib.pyplot as plt\n",
    "\n",
    "#Load data from an excel file and set as variable the numeric column which it is about  to make the goodnsess of fit test\n",
    "def load_data(filename,var):\n",
    "        df=pd.read_excel(filename)\n",
    "        data=df[var]\n",
    "        return df,data\n",
    "        \n",
    "#Data exploratory       \n",
    "data.describe()\n",
    "df.info()\n",
    "df.describe().transpose\n",
    "df.isnull().sum()\n",
    "\n",
    "#we create a function which output is the final counts, and the frequency of each count as a\n",
    "#percentage, are returned as lists to use in subsequent functions.\n",
    "def count_first_digit(data_str):#TAKE AS AN ARGUMENT A STR-COLUMN NAME\n",
    "    mask=df[data_str]>1.\n",
    "    data=list(df[mask][data_str])\n",
    "    for i in range(len(data)):\n",
    "        while data[i]>10:\n",
    "            data[i]=data[i]/10\n",
    "    first_digits=[int(x) for x in sorted(data)]\n",
    "    unique=(set(first_digits))#a list with unique values of first_digit list\n",
    "    data_count=[]\n",
    "    for i in unique:\n",
    "        count=first_digits.count(i)\n",
    "        data_count.append(count)\n",
    "    total_count=sum(data_count)\n",
    "    data_percentage=[(i/total_count)*100 for i in data_count]\n",
    "    return  total_count,data_count, data_percentage\n",
    "    \n",
    "    # Benford's Law percentages for leading digits 1-9\n",
    "BENFORD = [30.1, 17.6, 12.5, 9.7, 7.9, 6.7, 5.8, 5.1, 4.6]\n",
    "\n",
    "def get_expected_counts(total_count):\n",
    "\n",
    "    \"\"\"Return list of expected Benford's Law counts for total sample count.\"\"\"\n",
    "\n",
    "    return [round(p * total_count / 100) for p in BENFORD]\n",
    "expected_counts=get_expected_counts(total_count)\n",
    "\n",
    "def chi_square_test(data_count,expected_counts):\n",
    "\n",
    "    \"\"\"Return boolean on chi-square test (8 degrees of freedom & P-val=0.05).\"\"\"\n",
    "\n",
    "    chi_square_stat = 0  # chi square test statistic\n",
    "\n",
    "    for data, expected in zip(data_count,expected_counts):\n",
    "\n",
    "        chi_square = math.pow(data - expected, 2)\n",
    "\n",
    "        chi_square_stat += chi_square / expected\n",
    "\n",
    "    print(\"\\nChi-squared Test Statistic = {:.3f}\".format(chi_square_stat))\n",
    "\n",
    "    print(\"Critical value at a P-value of 0.05 is 15.51.\")    \n",
    "\n",
    "    return chi_square_stat < 15.51\n",
    "chi_square_test(data_count,expected_counts)\n",
    "\n",
    "#1st_bar_chart\n",
    "def bar_chart(data_pct):\n",
    "\n",
    "    \"\"\"Make bar chart of observed vs expected 1st digit frequency in percent.\"\"\"\n",
    "\n",
    "    fig, ax = plt.subplots()\n",
    "\n",
    "\n",
    "\n",
    "    index = [i + 1 for i in range(len(data_pct))]  # 1st digits for x-axis\n",
    "# text for labels, title and ticks\n",
    "\n",
    "    fig.canvas.set_window_title('Percentage First Digits')\n",
    "\n",
    "    ax.set_title('Data vs. Benford Values', fontsize=15)\n",
    "\n",
    "    ax.set_ylabel('Frequency (%)', fontsize=16)\n",
    "\n",
    "    ax.set_xticks(index)\n",
    "\n",
    "    ax.set_xticklabels(index, fontsize=14)\n",
    "\n",
    "\n",
    "\n",
    "    # build bars    \n",
    "\n",
    "    rects = ax.bar(index, data_pct, width=0.95, color='black', label='Data')\n",
    "\n",
    "\n",
    "\n",
    "    # attach a text label above each bar displaying its height\n",
    "\n",
    "    for rect in rects:\n",
    "\n",
    "        height = rect.get_height()\n",
    "\n",
    "        ax.text(rect.get_x() + rect.get_width()/2, height,\n",
    "\n",
    "                '{:0.1f}'.format(height), ha='center', va='bottom', \n",
    "\n",
    "                fontsize=13)\n",
    "\n",
    "\n",
    "\n",
    "    # plot Benford values as red dots\n",
    "\n",
    "    ax.scatter(index, BENFORD, s=150, c='red', zorder=2, label='Benford')\n",
    "\n",
    "\n",
    "\n",
    "    # Hide the right and top spines & add legend\n",
    "\n",
    "    ax.spines['right'].set_visible(False)\n",
    "\n",
    "    ax.spines['top'].set_visible(False)\n",
    "\n",
    "    ax.legend(prop={'size':15}, frameon=False)\n",
    "\n",
    "    \n",
    "\n",
    "    plt.show()\n",
    "    \n",
    "    #2nd_bar_chart\n",
    "    labels=list(data_percentage)\n",
    "width = 0.35 \n",
    "x = np.arange(len(data_percentage)) # the label locations\n",
    "width = 0.35  # the width of the bars\n",
    "fig, ax = plt.subplots()\n",
    "rects1 = ax.bar(x - width, data_percentage, width=0.95, color='black', label='Data')\n",
    "rects2 = ax.bar(x + width, BENFORD,width,label='Benford')\n",
    "# Add some text for labels, title and custom x-axis tick labels, etc.\n",
    "ax.set_ylabel('Frequency (%)', fontsize=16)\n",
    "ax.set_title('Benford')\n",
    "ax.set_xticks(x)\n",
    "ax.legend()\n",
    "plt.show()\n",
    "\n",
    "\n",
    "\n"
   ]
  },
  {
   "cell_type": "code",
   "execution_count": null,
   "metadata": {},
   "outputs": [],
   "source": [
    "#specify the main() function and runs the program & prints some statistics.\n",
    "def main(data_list):\n",
    "    total_count,data_count, data_percentage= count_first_digit(data_list)\n",
    "\n",
    "    expected_counts = get_expected_counts(total_count)\n",
    "\n",
    "    print(\"\\nobserved counts = {}\".format(data_count))\n",
    "\n",
    "    print(\"expected counts = {}\".format(expected_counts), \"\\n\")\n",
    "\n",
    "\n",
    "    print(\"First Digit Probabilities:\")\n",
    "\n",
    "    for i in range(1, 10):\n",
    "\n",
    "        print(\"{}: observed: {:.3f}  expected: {:.3f}\".\n",
    "\n",
    "              format(i, data_percentage[i - 1] / 100, BENFORD[i - 1] / 100))\n",
    "\n",
    "\n",
    "\n",
    "    if chi_square_test(data_count, expected_counts):\n",
    "\n",
    "        print(\"Observed distribution matches expected distribution.\")\n",
    "\n",
    "    else:\n",
    "\n",
    "        print(\"Observed distribution does not match expected.\", file=sys.stderr)       \n",
    "\n",
    "\n",
    "\n",
    "    bar_chart(data_percentage)\n",
    "\n",
    "\n"
   ]
  },
  {
   "cell_type": "code",
   "execution_count": null,
   "metadata": {},
   "outputs": [],
   "source": []
  }
 ],
 "metadata": {
  "kernelspec": {
   "display_name": "Python 3",
   "language": "python",
   "name": "python3"
  },
  "language_info": {
   "codemirror_mode": {
    "name": "ipython",
    "version": 3
   },
   "file_extension": ".py",
   "mimetype": "text/x-python",
   "name": "python",
   "nbconvert_exporter": "python",
   "pygments_lexer": "ipython3",
   "version": "3.8.5"
  },
  "vscode": {
   "interpreter": {
    "hash": "0e0d17668ca2bd26e3efa0d91a6b37c0e76438607883694a2602cf70b4cf586a"
   }
  }
 },
 "nbformat": 4,
 "nbformat_minor": 2
}
